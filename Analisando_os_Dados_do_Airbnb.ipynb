{
  "nbformat": 4,
  "nbformat_minor": 0,
  "metadata": {
    "colab": {
      "name": "Analisando os Dados do Airbnb.ipynb",
      "provenance": [],
      "collapsed_sections": [],
      "include_colab_link": true
    },
    "kernelspec": {
      "name": "python3",
      "display_name": "Python 3"
    }
  },
  "cells": [
    {
      "cell_type": "markdown",
      "metadata": {
        "id": "view-in-github",
        "colab_type": "text"
      },
      "source": [
        "<a href=\"https://colab.research.google.com/github/gabrielcardosods/data_science/blob/master/Analisando_os_Dados_do_Airbnb.ipynb\" target=\"_parent\"><img src=\"https://colab.research.google.com/assets/colab-badge.svg\" alt=\"Open In Colab\"/></a>"
      ]
    },
    {
      "cell_type": "markdown",
      "metadata": {
        "id": "kLI0gJtzDGuQ",
        "colab_type": "text"
      },
      "source": [
        "<p><img alt=\"Colaboratory logo\" height=\"45px\" src=\"https://raw.githubusercontent.com/gabrielcardosods/data_science/master/images/search.png\"\n",
        "align=\"left\" hspace=\"10px\" vspace=\"0px\"></p>\n",
        "\n",
        "#### **Data Science na Prática 2.0**\n",
        "*by [Gabriel Cardoso](https://github.com/gabrielcardosods)*\n",
        "\n",
        "---\n",
        "\n",
        "\n",
        "# <font color=#404040>🌟<strong>Terra da luz</strong>: Análise dos Dados do Airbnb em Fortaleza </font>\n",
        "\n",
        "\n",
        "&nbsp;\n",
        "\n",
        "## <font color=#404040><strong>Sobre a Airbnb</strong></font>\n",
        "\n",
        "&nbsp;\n",
        "\n",
        "<font color=#404040>O <a href=https://www.airbnb.com.br/ title=\"Airbnb\">Airbnb</a> já é considerado um dos dos maiores mercados de estadia, oferecendo mais de 7 milhões de acomodações e 50 mil atividades personalizadas desenvolvida por anfitriões locais.</font>\n",
        "\n",
        "<font color=#FF585D>E acredite se quiser, ele <strong>não possui nenhum hotel</strong></font>\n",
        "\n",
        "<font color=#404040>Acessível em 62 idiomas e em mais de 220 países, o Airbnb provome a conexão interpessoal, a comunidade e a confiança no mundo todo.</font>\n",
        "\n",
        "<font color=#404040>No final de 2018, a Startup fundada 10 anos atrás, já havia <strong>hospedado mais de 300 milhões</strong> de pessoas ao redor de todo o mundo, desafiando as redes hoteleiras tradicionais.</font>\n",
        "\n",
        "<font color=#404040>Uma das iniciativas do Airbnb é disponibilizar dados do site, para algumas das principais cidades do mundo. Por meio do portal <a href=http://insideairbnb.com/get-the-data.html title=\"Inside Airbnb\">Inside Airbnb</a>, é possível baixar uma grande quantidade de dados para desenvolver projetos e soluções de *Data Science*.</font>\n",
        "\n",
        "<center><img alt=\"Analisando Airbnb\" width=\"10%\" src=\"https://raw.githubusercontent.com/gabrielcardosods/data_science/master/images/airbnblogo.png\"></center>\n",
        "\n",
        "<font color=\"#404040\"><strong>Então neste *notebook*, iremos analisar os dados referentes à cidade de Fortaleza, ver quais insights podem ser extraídos a partir de dados brutos.</strong></font>"
      ]
    },
    {
      "cell_type": "markdown",
      "metadata": {
        "id": "0zxQHhIUDF_2",
        "colab_type": "text"
      },
      "source": [
        "<h2><font color=#404040><strong>Coleta dos Dados</strong></font></h2>\n",
        "\n",
        "Os dados que serão usados estão disponíveis no portal [Inside Airbnb](http://insideairbnb.com/get-the-data.html).\n",
        "\n",
        "\n",
        "&nbsp;\n",
        "\n",
        "<h3><font color=#404040><strong>Kit necessário</strong></font></h3>\n",
        "Para esta análise exploratória inicial, serão necessários apenas o **arquivo**:\n",
        "* `listings.csv`: Summary information and metrics for listings (good for visualisations).\n",
        "\n",
        "E as **bibliotecas** do *python*:\n",
        "* `pandas`\n",
        "* `matplotlib`\n",
        "* `seaborn`\n",
        "\n"
      ]
    },
    {
      "cell_type": "code",
      "metadata": {
        "id": "Vhp2wMPgJ6zX",
        "colab_type": "code",
        "colab": {}
      },
      "source": [
        "# importar os pacotes necessarios\n"
      ],
      "execution_count": 0,
      "outputs": []
    },
    {
      "cell_type": "code",
      "metadata": {
        "id": "tUmoAT8DLQ5T",
        "colab_type": "code",
        "colab": {}
      },
      "source": [
        "# importar o arquivo listings.csv para um DataFrame\n"
      ],
      "execution_count": 0,
      "outputs": []
    },
    {
      "cell_type": "markdown",
      "metadata": {
        "id": "qb5By2nIMS6m",
        "colab_type": "text"
      },
      "source": [
        "## Análise dos Dados\n"
      ]
    },
    {
      "cell_type": "markdown",
      "metadata": {
        "id": "RYgvuebKNg8-",
        "colab_type": "text"
      },
      "source": [
        "**Dicionário das variáveis**\n",
        "\n",
        "* ...\n",
        "* ... \n",
        "* ...\n",
        "\n",
        "Antes de iniciar qualquer análise, vamos verificar a cara do nosso *dataset*, analisando as 5 primeiras entradas."
      ]
    },
    {
      "cell_type": "code",
      "metadata": {
        "id": "2iS_dae7YQtO",
        "colab_type": "code",
        "colab": {}
      },
      "source": [
        "# mostrar as 5 primeiras entradas\n"
      ],
      "execution_count": 0,
      "outputs": []
    },
    {
      "cell_type": "markdown",
      "metadata": {
        "id": "6-B_qtEaYEd-",
        "colab_type": "text"
      },
      "source": [
        "### **Q1. Quantos atributos (variáveis) e quantas entradas o nosso conjunto de dados possui? Quais os tipos das variáveis?**"
      ]
    },
    {
      "cell_type": "code",
      "metadata": {
        "id": "TFRK0tniLV-G",
        "colab_type": "code",
        "colab": {}
      },
      "source": [
        "# identificar o volume de dados do DataFrame\n",
        "\n",
        "# verificar as 5 primeiras entradas do dataset\n"
      ],
      "execution_count": 0,
      "outputs": []
    },
    {
      "cell_type": "markdown",
      "metadata": {
        "id": "yz1urSUGW9iE",
        "colab_type": "text"
      },
      "source": [
        "### **Q2. Qual a porcentagem de valores ausentes no *dataset*?**"
      ]
    },
    {
      "cell_type": "code",
      "metadata": {
        "id": "plk2FjbCXOqP",
        "colab_type": "code",
        "colab": {}
      },
      "source": [
        "# ordenar em ordem decrescente as variáveis por seus valores ausentes\n"
      ],
      "execution_count": 0,
      "outputs": []
    },
    {
      "cell_type": "markdown",
      "metadata": {
        "id": "iHXvvHIxaoNc",
        "colab_type": "text"
      },
      "source": [
        "### **Q3. Qual o tipo de distribuição das variáveis?** "
      ]
    },
    {
      "cell_type": "code",
      "metadata": {
        "id": "q2wWSfeRbmBo",
        "colab_type": "code",
        "colab": {}
      },
      "source": [
        "# plotar o histograma das variáveis numéricas\n"
      ],
      "execution_count": 0,
      "outputs": []
    },
    {
      "cell_type": "markdown",
      "metadata": {
        "id": "7x4aw1j5wNmn",
        "colab_type": "text"
      },
      "source": [
        "### **Q4. Qual a média dos preços de aluguel?**"
      ]
    },
    {
      "cell_type": "code",
      "metadata": {
        "id": "ff-8gUahLk-C",
        "colab_type": "code",
        "colab": {}
      },
      "source": [
        "# ver a média da coluna `price``\n"
      ],
      "execution_count": 0,
      "outputs": []
    },
    {
      "cell_type": "markdown",
      "metadata": {
        "id": "IXn2oIo5qx-w",
        "colab_type": "text"
      },
      "source": [
        "### **Q4. Qual a correlação existente entre as variáveis**"
      ]
    },
    {
      "cell_type": "code",
      "metadata": {
        "id": "x2ayzBajqxyd",
        "colab_type": "code",
        "colab": {}
      },
      "source": [
        "# criar uma matriz de correlação\n",
        "\n",
        "# mostrar a matriz de correlação\n"
      ],
      "execution_count": 0,
      "outputs": []
    },
    {
      "cell_type": "code",
      "metadata": {
        "id": "91UujDr6ueqE",
        "colab_type": "code",
        "colab": {}
      },
      "source": [
        "# plotar um heatmap a partir das correlações\n"
      ],
      "execution_count": 0,
      "outputs": []
    },
    {
      "cell_type": "markdown",
      "metadata": {
        "id": "7b6RMWpuHKN-",
        "colab_type": "text"
      },
      "source": [
        "### **Q5. Qual o tipo de imóvel mais alugado no Airbnb?**"
      ]
    },
    {
      "cell_type": "code",
      "metadata": {
        "id": "ueLPNWvPHgfB",
        "colab_type": "code",
        "colab": {}
      },
      "source": [
        "# mostrar a quantidade de cada tipo de imóvel disponível\n"
      ],
      "execution_count": 0,
      "outputs": []
    },
    {
      "cell_type": "code",
      "metadata": {
        "id": "EvwoO-XAHhIm",
        "colab_type": "code",
        "colab": {}
      },
      "source": [
        "# mostrar a porcentagem de cada tipo de imóvel disponível\n"
      ],
      "execution_count": 0,
      "outputs": []
    },
    {
      "cell_type": "markdown",
      "metadata": {
        "id": "MFa5NbnLJMcd",
        "colab_type": "text"
      },
      "source": [
        "### **Q6. Qual a localidade mais cara do dataset?**\n",
        "\n"
      ]
    },
    {
      "cell_type": "code",
      "metadata": {
        "id": "MD_xa143JZpi",
        "colab_type": "code",
        "colab": {}
      },
      "source": [
        "# ver preços por bairros, na média\n"
      ],
      "execution_count": 0,
      "outputs": []
    },
    {
      "cell_type": "code",
      "metadata": {
        "id": "UxVJqJ_3W59I",
        "colab_type": "code",
        "colab": {}
      },
      "source": [
        "# plotar os imóveis pela latitude-longitude\n"
      ],
      "execution_count": 0,
      "outputs": []
    },
    {
      "cell_type": "markdown",
      "metadata": {
        "id": "vTneAMRUYvr1",
        "colab_type": "text"
      },
      "source": [
        "### **Q7. Qual é a média do mínimo de noites para aluguel (minimum_nights)?**"
      ]
    },
    {
      "cell_type": "code",
      "metadata": {
        "id": "_VzNhrEgY82N",
        "colab_type": "code",
        "colab": {}
      },
      "source": [
        "# ver a média da coluna `minimum_nights``"
      ],
      "execution_count": 0,
      "outputs": []
    },
    {
      "cell_type": "markdown",
      "metadata": {
        "id": "GkvAg623RjoR",
        "colab_type": "text"
      },
      "source": [
        "## Conclusões\n"
      ]
    },
    {
      "cell_type": "markdown",
      "metadata": {
        "id": "rbZ3Hsy9Ypw8",
        "colab_type": "text"
      },
      "source": [
        "Icons made by <a href=\"https://www.flaticon.com/authors/smashicons\" title=\"Smashicons\">Smashicons</a> from <a href=\"https://www.flaticon.com/\" title=\"Flaticon\"> www.flaticon.com</a>\n",
        "\n"
      ]
    }
  ]
}